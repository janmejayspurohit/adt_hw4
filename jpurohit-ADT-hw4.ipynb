{
 "cells": [
  {
   "cell_type": "code",
   "execution_count": 12,
   "id": "07168ca8",
   "metadata": {},
   "outputs": [
    {
     "name": "stdout",
     "output_type": "stream",
     "text": [
      "   Rank                      Name Net Worth   Age        Country  \\\n",
      "0   1.0                 Elon Musk    $219 B  50.0  United States   \n",
      "1   2.0                Jeff Bezos    $171 B  58.0  United States   \n",
      "2   3.0  Bernard Arnault & family    $158 B  73.0         France   \n",
      "3   4.0                Bill Gates    $129 B  66.0  United States   \n",
      "4   5.0            Warren Buffett    $118 B  91.0  United States   \n",
      "\n",
      "               Source               Industry  \n",
      "0       Tesla, SpaceX             Automotive  \n",
      "1              Amazon             Technology  \n",
      "2                LVMH       Fashion & Retail  \n",
      "3           Microsoft             Technology  \n",
      "4  Berkshire Hathaway  Finance & Investments  \n",
      "<class 'pandas.core.frame.DataFrame'>\n",
      "RangeIndex: 2632 entries, 0 to 2631\n",
      "Data columns (total 7 columns):\n",
      " #   Column     Non-Null Count  Dtype  \n",
      "---  ------     --------------  -----  \n",
      " 0   Rank       2509 non-null   float64\n",
      " 1   Name       2509 non-null   object \n",
      " 2   Net Worth  2509 non-null   object \n",
      " 3   Age        2430 non-null   float64\n",
      " 4   Country    2509 non-null   object \n",
      " 5   Source     2509 non-null   object \n",
      " 6   Industry   2509 non-null   object \n",
      "dtypes: float64(2), object(5)\n",
      "memory usage: 144.1+ KB\n",
      "None\n"
     ]
    }
   ],
   "source": [
    "import pandas as pd\n",
    "\n",
    "file_path = \"./forbes_richman.csv\"\n",
    "df = pd.read_csv(file_path, encoding=\"ISO-8859-1\")\n",
    "\n",
    "print(df.head())\n",
    "print(df.info())"
   ]
  },
  {
   "cell_type": "code",
   "execution_count": 15,
   "id": "94b4ecb7",
   "metadata": {},
   "outputs": [
    {
     "name": "stdout",
     "output_type": "stream",
     "text": [
      "   Rank                      Name Net Worth  Age        Country  \\\n",
      "0     1                 Elon Musk    $219 B   50  United States   \n",
      "1     2                Jeff Bezos    $171 B   58  United States   \n",
      "2     3  Bernard Arnault & family    $158 B   73         France   \n",
      "3     4                Bill Gates    $129 B   66  United States   \n",
      "4     5            Warren Buffett    $118 B   91  United States   \n",
      "\n",
      "               Source               Industry  \n",
      "0       Tesla, SpaceX             Automotive  \n",
      "1              Amazon             Technology  \n",
      "2                LVMH       Fashion & Retail  \n",
      "3           Microsoft             Technology  \n",
      "4  Berkshire Hathaway  Finance & Investments  \n",
      "<class 'pandas.core.frame.DataFrame'>\n",
      "Int64Index: 2430 entries, 0 to 2508\n",
      "Data columns (total 7 columns):\n",
      " #   Column     Non-Null Count  Dtype \n",
      "---  ------     --------------  ----- \n",
      " 0   Rank       2430 non-null   int64 \n",
      " 1   Name       2430 non-null   object\n",
      " 2   Net Worth  2430 non-null   object\n",
      " 3   Age        2430 non-null   int64 \n",
      " 4   Country    2430 non-null   object\n",
      " 5   Source     2430 non-null   object\n",
      " 6   Industry   2430 non-null   object\n",
      "dtypes: int64(2), object(5)\n",
      "memory usage: 151.9+ KB\n",
      "None\n"
     ]
    }
   ],
   "source": [
    "# Drop rows with missing values\n",
    "df = df.dropna()\n",
    "\n",
    "# Drop rows with Rank as N/A\n",
    "df = df[df[\"Rank\"] != \"N/A\"]\n",
    "\n",
    "# Convert columns to appropriate data types (e.g., integer, float)\n",
    "df[\"Rank\"] = df[\"Rank\"].astype(int)\n",
    "df[\"Age\"] = df[\"Age\"].astype(int)\n",
    "df[\"Net Worth\"] = df[\"Net Worth\"].astype(str)\n",
    "\n",
    "print(df.head())\n",
    "print(df.info())"
   ]
  },
  {
   "cell_type": "code",
   "execution_count": 16,
   "id": "dc0108cc",
   "metadata": {},
   "outputs": [],
   "source": [
    "output_file_path = \"./preprocessed_forbes_richman.csv\"\n",
    "df.to_csv(output_file_path, index=False)"
   ]
  }
 ],
 "metadata": {
  "kernelspec": {
   "display_name": "Python 3 (ipykernel)",
   "language": "python",
   "name": "python3"
  },
  "language_info": {
   "codemirror_mode": {
    "name": "ipython",
    "version": 3
   },
   "file_extension": ".py",
   "mimetype": "text/x-python",
   "name": "python",
   "nbconvert_exporter": "python",
   "pygments_lexer": "ipython3",
   "version": "3.10.6"
  }
 },
 "nbformat": 4,
 "nbformat_minor": 5
}
